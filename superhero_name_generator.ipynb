{
  "nbformat": 4,
  "nbformat_minor": 0,
  "metadata": {
    "colab": {
      "name": "superhero name generator.ipynb",
      "provenance": []
    },
    "kernelspec": {
      "name": "python3",
      "display_name": "Python 3"
    },
    "language_info": {
      "name": "python"
    },
    "accelerator": "GPU"
  },
  "cells": [
    {
      "cell_type": "code",
      "metadata": {
        "id": "G7CgF416Ubs8"
      },
      "source": [
        "import tensorflow as tf"
      ],
      "execution_count": 1,
      "outputs": []
    },
    {
      "cell_type": "code",
      "metadata": {
        "id": "-5IZT-uXV1Zk"
      },
      "source": [
        "with open('superhero/superheroes.txt', 'r') as f:\n",
        "  data = f.read()"
      ],
      "execution_count": 2,
      "outputs": []
    },
    {
      "cell_type": "code",
      "metadata": {
        "id": "5wSRgwnCWLIM"
      },
      "source": [
        "tokenizer = tf.keras.preprocessing.text.Tokenizer(\n",
        "    filters='!\"#$%&()*+,-./:;<=>?@[\\\\]^_`{|}~',\n",
        "    split='\\n',\n",
        ")"
      ],
      "execution_count": 3,
      "outputs": []
    },
    {
      "cell_type": "code",
      "metadata": {
        "id": "cTS2-qzGWsFk"
      },
      "source": [
        "tokenizer.fit_on_texts(data)"
      ],
      "execution_count": 4,
      "outputs": []
    },
    {
      "cell_type": "code",
      "metadata": {
        "colab": {
          "base_uri": "https://localhost:8080/"
        },
        "id": "hCIpiI2yWvPI",
        "outputId": "bb038a44-6be8-48aa-a854-cefdceb60c4c"
      },
      "source": [
        "char_to_index = tokenizer.word_index\n",
        "index_to_char = dict((v, k) for k, v in char_to_index.items())\n",
        "\n",
        "print(index_to_char)"
      ],
      "execution_count": 5,
      "outputs": [
        {
          "output_type": "stream",
          "text": [
            "{1: '\\t', 2: 'a', 3: 'e', 4: 'r', 5: 'o', 6: 'n', 7: 'i', 8: ' ', 9: 't', 10: 's', 11: 'l', 12: 'm', 13: 'h', 14: 'd', 15: 'c', 16: 'u', 17: 'g', 18: 'k', 19: 'b', 20: 'p', 21: 'y', 22: 'w', 23: 'f', 24: 'v', 25: 'j', 26: 'z', 27: 'x', 28: 'q'}\n"
          ],
          "name": "stdout"
        }
      ]
    },
    {
      "cell_type": "code",
      "metadata": {
        "colab": {
          "base_uri": "https://localhost:8080/"
        },
        "id": "7z2BM_lqXENU",
        "outputId": "a95a5ef8-472b-4c07-88a9-d8b1a09e16ea"
      },
      "source": [
        "names = data.splitlines()\n",
        "names[:10]"
      ],
      "execution_count": 6,
      "outputs": [
        {
          "output_type": "execute_result",
          "data": {
            "text/plain": [
              "['jumpa\\t',\n",
              " 'doctor fate\\t',\n",
              " 'starlight\\t',\n",
              " 'isildur\\t',\n",
              " 'lasher\\t',\n",
              " 'varvara\\t',\n",
              " 'the target\\t',\n",
              " 'axel\\t',\n",
              " 'battra\\t',\n",
              " 'changeling\\t']"
            ]
          },
          "metadata": {
            "tags": []
          },
          "execution_count": 6
        }
      ]
    },
    {
      "cell_type": "code",
      "metadata": {
        "colab": {
          "base_uri": "https://localhost:8080/"
        },
        "id": "ALwzdeJYXuOY",
        "outputId": "b3fa7b8b-fa18-4f7e-91c7-6f211d987398"
      },
      "source": [
        "tokenizer.texts_to_sequences(names[0])"
      ],
      "execution_count": 7,
      "outputs": [
        {
          "output_type": "execute_result",
          "data": {
            "text/plain": [
              "[[25], [16], [12], [20], [2], [1]]"
            ]
          },
          "metadata": {
            "tags": []
          },
          "execution_count": 7
        }
      ]
    },
    {
      "cell_type": "code",
      "metadata": {
        "id": "6BXklP4gX36s"
      },
      "source": [
        "def name_to_seq(name):\n",
        "  return [tokenizer.texts_to_sequences(c)[0][0] for c in name]"
      ],
      "execution_count": 8,
      "outputs": []
    },
    {
      "cell_type": "code",
      "metadata": {
        "colab": {
          "base_uri": "https://localhost:8080/"
        },
        "id": "7XerpdaWYFyM",
        "outputId": "bc4c633e-2476-43e4-ab39-445ba5f92033"
      },
      "source": [
        "name_to_seq(names[0])"
      ],
      "execution_count": 9,
      "outputs": [
        {
          "output_type": "execute_result",
          "data": {
            "text/plain": [
              "[25, 16, 12, 20, 2, 1]"
            ]
          },
          "metadata": {
            "tags": []
          },
          "execution_count": 9
        }
      ]
    },
    {
      "cell_type": "code",
      "metadata": {
        "id": "89JAzN9mYIl4"
      },
      "source": [
        "def sequence_to_name(sequence):\n",
        "  return ''.join([index_to_char[i] for i in sequence if i != 0])"
      ],
      "execution_count": 10,
      "outputs": []
    },
    {
      "cell_type": "code",
      "metadata": {
        "colab": {
          "base_uri": "https://localhost:8080/"
        },
        "id": "x0GrwewFYXtE",
        "outputId": "2a996e76-f32b-490f-8257-99490af50a6a"
      },
      "source": [
        "print(sequence_to_name([25, 16, 12, 20, 2, 1]))"
      ],
      "execution_count": 11,
      "outputs": [
        {
          "output_type": "stream",
          "text": [
            "jumpa\t\n"
          ],
          "name": "stdout"
        }
      ]
    },
    {
      "cell_type": "code",
      "metadata": {
        "id": "-jJpYFjFYZ5s"
      },
      "source": [
        "sequences = []\n",
        "\n",
        "for name in names:\n",
        "  seq = name_to_seq(name)\n",
        "  if len(seq) >= 2:\n",
        "    sequences  += [seq[:i] for i in range(2, len(seq)+1)]"
      ],
      "execution_count": 12,
      "outputs": []
    },
    {
      "cell_type": "code",
      "metadata": {
        "colab": {
          "base_uri": "https://localhost:8080/"
        },
        "id": "P74k3ZgBZ3I4",
        "outputId": "74ac5560-7112-40ce-957c-62c7da3170ef"
      },
      "source": [
        "print(sequences[:10])\n",
        "print(len(sequences))\n",
        "max_len = max([len(seq) for seq in sequences])\n",
        "print(max_len)"
      ],
      "execution_count": 13,
      "outputs": [
        {
          "output_type": "stream",
          "text": [
            "[[25, 16], [25, 16, 12], [25, 16, 12, 20], [25, 16, 12, 20, 2], [25, 16, 12, 20, 2, 1], [14, 5], [14, 5, 15], [14, 5, 15, 9], [14, 5, 15, 9, 5], [14, 5, 15, 9, 5, 4]]\n",
            "88279\n",
            "33\n"
          ],
          "name": "stdout"
        }
      ]
    },
    {
      "cell_type": "code",
      "metadata": {
        "colab": {
          "base_uri": "https://localhost:8080/"
        },
        "id": "5iPVgPSgZ6F8",
        "outputId": "9fd6f292-ee28-438c-d581-a917fccb4c63"
      },
      "source": [
        "padded_sequences = tf.keras.preprocessing.sequence.pad_sequences(\n",
        "    sequences, padding='pre', maxlen=max_len\n",
        ")\n",
        "print(padded_sequences[0])"
      ],
      "execution_count": 14,
      "outputs": [
        {
          "output_type": "stream",
          "text": [
            "[ 0  0  0  0  0  0  0  0  0  0  0  0  0  0  0  0  0  0  0  0  0  0  0  0\n",
            "  0  0  0  0  0  0  0 25 16]\n"
          ],
          "name": "stdout"
        }
      ]
    },
    {
      "cell_type": "code",
      "metadata": {
        "colab": {
          "base_uri": "https://localhost:8080/"
        },
        "id": "npZ634npakZw",
        "outputId": "81645dd1-699e-4dfc-9804-55e869b8fd63"
      },
      "source": [
        "padded_sequences.shape"
      ],
      "execution_count": 15,
      "outputs": [
        {
          "output_type": "execute_result",
          "data": {
            "text/plain": [
              "(88279, 33)"
            ]
          },
          "metadata": {
            "tags": []
          },
          "execution_count": 15
        }
      ]
    },
    {
      "cell_type": "code",
      "metadata": {
        "id": "kYQtwwgwasmw"
      },
      "source": [
        "x, y = padded_sequences[:, :-1], padded_sequences[:, -1]"
      ],
      "execution_count": 16,
      "outputs": []
    },
    {
      "cell_type": "code",
      "metadata": {
        "colab": {
          "base_uri": "https://localhost:8080/"
        },
        "id": "yPsfdxeYa8q4",
        "outputId": "4de14783-4399-40e4-81ac-461dcb0274d6"
      },
      "source": [
        "print(x.shape, y.shape)"
      ],
      "execution_count": 17,
      "outputs": [
        {
          "output_type": "stream",
          "text": [
            "(88279, 32) (88279,)\n"
          ],
          "name": "stdout"
        }
      ]
    },
    {
      "cell_type": "code",
      "metadata": {
        "colab": {
          "base_uri": "https://localhost:8080/"
        },
        "id": "NO5Vi7ara-bY",
        "outputId": "daaaff44-8b79-4b18-929c-a67c224fdd46"
      },
      "source": [
        "from sklearn.model_selection import train_test_split\n",
        "\n",
        "x_train, x_test, y_train, y_test = train_test_split(x, y)\n",
        "print(x_train.shape, y_train.shape)\n",
        "print(x_test.shape, y_test.shape)"
      ],
      "execution_count": 18,
      "outputs": [
        {
          "output_type": "stream",
          "text": [
            "(66209, 32) (66209,)\n",
            "(22070, 32) (22070,)\n"
          ],
          "name": "stdout"
        }
      ]
    },
    {
      "cell_type": "code",
      "metadata": {
        "colab": {
          "base_uri": "https://localhost:8080/"
        },
        "id": "QXlsyhMybPeA",
        "outputId": "873ced75-21a8-4c61-cda7-c895e25e1e58"
      },
      "source": [
        "num_chars = len(char_to_index.keys()) + 1\n",
        "print(num_chars)"
      ],
      "execution_count": 19,
      "outputs": [
        {
          "output_type": "stream",
          "text": [
            "29\n"
          ],
          "name": "stdout"
        }
      ]
    },
    {
      "cell_type": "code",
      "metadata": {
        "id": "lOm0FEXJbgC8"
      },
      "source": [
        "from tensorflow.keras.models import Sequential\n",
        "from tensorflow.keras.layers import Embedding, Conv1D, MaxPool1D, LSTM, Bidirectional, Dense"
      ],
      "execution_count": 21,
      "outputs": []
    },
    {
      "cell_type": "code",
      "metadata": {
        "colab": {
          "base_uri": "https://localhost:8080/"
        },
        "id": "dZ81GQzxblas",
        "outputId": "0a1778e4-a67c-4f28-8dd8-e25e5f522252"
      },
      "source": [
        "model = Sequential([\n",
        "                    Embedding(num_chars, 8, input_length=max_len-1),\n",
        "                    Conv1D(64, 5, strides=1, activation='relu', padding='causal'),\n",
        "                    MaxPool1D(2),\n",
        "                    LSTM(32),\n",
        "                    Dense(num_chars, activation='softmax')\n",
        "])\n",
        "\n",
        "model.compile(\n",
        "    loss='sparse_categorical_crossentropy',\n",
        "    optimizer='adam',\n",
        "    metrics=['accuracy']\n",
        ")\n",
        "\n",
        "model.summary()"
      ],
      "execution_count": 22,
      "outputs": [
        {
          "output_type": "stream",
          "text": [
            "Model: \"sequential\"\n",
            "_________________________________________________________________\n",
            "Layer (type)                 Output Shape              Param #   \n",
            "=================================================================\n",
            "embedding (Embedding)        (None, 32, 8)             232       \n",
            "_________________________________________________________________\n",
            "conv1d (Conv1D)              (None, 32, 64)            2624      \n",
            "_________________________________________________________________\n",
            "max_pooling1d (MaxPooling1D) (None, 16, 64)            0         \n",
            "_________________________________________________________________\n",
            "lstm (LSTM)                  (None, 32)                12416     \n",
            "_________________________________________________________________\n",
            "dense (Dense)                (None, 29)                957       \n",
            "=================================================================\n",
            "Total params: 16,229\n",
            "Trainable params: 16,229\n",
            "Non-trainable params: 0\n",
            "_________________________________________________________________\n"
          ],
          "name": "stdout"
        }
      ]
    },
    {
      "cell_type": "code",
      "metadata": {
        "colab": {
          "base_uri": "https://localhost:8080/"
        },
        "id": "IxKtcK58dGlc",
        "outputId": "ee373cd4-b3ef-402d-da1d-15ca6a58c199"
      },
      "source": [
        "h = model.fit(\n",
        "    x_train, y_train,\n",
        "    validation_data=(x_test, y_test),\n",
        "    epochs=50, verbose=2,\n",
        "    callbacks=[tf.keras.callbacks.EarlyStopping(monitor=\"val_accuracy\", patience=3)\n",
        "    ]\n",
        ")"
      ],
      "execution_count": 23,
      "outputs": [
        {
          "output_type": "stream",
          "text": [
            "Epoch 1/50\n",
            "2070/2070 - 48s - loss: 2.7486 - accuracy: 0.1917 - val_loss: 2.5733 - val_accuracy: 0.2237\n",
            "Epoch 2/50\n",
            "2070/2070 - 16s - loss: 2.5191 - accuracy: 0.2390 - val_loss: 2.4822 - val_accuracy: 0.2491\n",
            "Epoch 3/50\n",
            "2070/2070 - 16s - loss: 2.4542 - accuracy: 0.2543 - val_loss: 2.4344 - val_accuracy: 0.2633\n",
            "Epoch 4/50\n",
            "2070/2070 - 17s - loss: 2.4067 - accuracy: 0.2690 - val_loss: 2.4010 - val_accuracy: 0.2709\n",
            "Epoch 5/50\n",
            "2070/2070 - 16s - loss: 2.3715 - accuracy: 0.2815 - val_loss: 2.3733 - val_accuracy: 0.2856\n",
            "Epoch 6/50\n",
            "2070/2070 - 16s - loss: 2.3412 - accuracy: 0.2914 - val_loss: 2.3530 - val_accuracy: 0.2928\n",
            "Epoch 7/50\n",
            "2070/2070 - 17s - loss: 2.3132 - accuracy: 0.3014 - val_loss: 2.3317 - val_accuracy: 0.2987\n",
            "Epoch 8/50\n",
            "2070/2070 - 17s - loss: 2.2885 - accuracy: 0.3096 - val_loss: 2.3173 - val_accuracy: 0.3009\n",
            "Epoch 9/50\n",
            "2070/2070 - 17s - loss: 2.2660 - accuracy: 0.3146 - val_loss: 2.2988 - val_accuracy: 0.3072\n",
            "Epoch 10/50\n",
            "2070/2070 - 16s - loss: 2.2453 - accuracy: 0.3208 - val_loss: 2.2849 - val_accuracy: 0.3088\n",
            "Epoch 11/50\n",
            "2070/2070 - 17s - loss: 2.2273 - accuracy: 0.3279 - val_loss: 2.2706 - val_accuracy: 0.3178\n",
            "Epoch 12/50\n",
            "2070/2070 - 16s - loss: 2.2108 - accuracy: 0.3312 - val_loss: 2.2620 - val_accuracy: 0.3220\n",
            "Epoch 13/50\n",
            "2070/2070 - 16s - loss: 2.1947 - accuracy: 0.3365 - val_loss: 2.2545 - val_accuracy: 0.3204\n",
            "Epoch 14/50\n",
            "2070/2070 - 16s - loss: 2.1814 - accuracy: 0.3426 - val_loss: 2.2493 - val_accuracy: 0.3229\n",
            "Epoch 15/50\n",
            "2070/2070 - 16s - loss: 2.1671 - accuracy: 0.3466 - val_loss: 2.2420 - val_accuracy: 0.3292\n",
            "Epoch 16/50\n",
            "2070/2070 - 16s - loss: 2.1548 - accuracy: 0.3511 - val_loss: 2.2334 - val_accuracy: 0.3292\n",
            "Epoch 17/50\n",
            "2070/2070 - 17s - loss: 2.1430 - accuracy: 0.3543 - val_loss: 2.2267 - val_accuracy: 0.3327\n",
            "Epoch 18/50\n",
            "2070/2070 - 16s - loss: 2.1326 - accuracy: 0.3573 - val_loss: 2.2245 - val_accuracy: 0.3347\n",
            "Epoch 19/50\n",
            "2070/2070 - 16s - loss: 2.1221 - accuracy: 0.3598 - val_loss: 2.2177 - val_accuracy: 0.3359\n",
            "Epoch 20/50\n",
            "2070/2070 - 16s - loss: 2.1129 - accuracy: 0.3624 - val_loss: 2.2226 - val_accuracy: 0.3407\n",
            "Epoch 21/50\n",
            "2070/2070 - 16s - loss: 2.1046 - accuracy: 0.3667 - val_loss: 2.2125 - val_accuracy: 0.3382\n",
            "Epoch 22/50\n",
            "2070/2070 - 16s - loss: 2.0965 - accuracy: 0.3693 - val_loss: 2.2100 - val_accuracy: 0.3411\n",
            "Epoch 23/50\n",
            "2070/2070 - 16s - loss: 2.0895 - accuracy: 0.3703 - val_loss: 2.2067 - val_accuracy: 0.3425\n",
            "Epoch 24/50\n",
            "2070/2070 - 16s - loss: 2.0828 - accuracy: 0.3734 - val_loss: 2.2059 - val_accuracy: 0.3455\n",
            "Epoch 25/50\n",
            "2070/2070 - 16s - loss: 2.0750 - accuracy: 0.3747 - val_loss: 2.1998 - val_accuracy: 0.3463\n",
            "Epoch 26/50\n",
            "2070/2070 - 16s - loss: 2.0694 - accuracy: 0.3767 - val_loss: 2.1975 - val_accuracy: 0.3474\n",
            "Epoch 27/50\n",
            "2070/2070 - 16s - loss: 2.0639 - accuracy: 0.3772 - val_loss: 2.1966 - val_accuracy: 0.3505\n",
            "Epoch 28/50\n",
            "2070/2070 - 16s - loss: 2.0583 - accuracy: 0.3810 - val_loss: 2.1937 - val_accuracy: 0.3496\n",
            "Epoch 29/50\n",
            "2070/2070 - 16s - loss: 2.0523 - accuracy: 0.3827 - val_loss: 2.1974 - val_accuracy: 0.3510\n",
            "Epoch 30/50\n",
            "2070/2070 - 16s - loss: 2.0468 - accuracy: 0.3833 - val_loss: 2.1965 - val_accuracy: 0.3484\n",
            "Epoch 31/50\n",
            "2070/2070 - 16s - loss: 2.0428 - accuracy: 0.3864 - val_loss: 2.1997 - val_accuracy: 0.3512\n",
            "Epoch 32/50\n",
            "2070/2070 - 16s - loss: 2.0390 - accuracy: 0.3859 - val_loss: 2.1942 - val_accuracy: 0.3536\n",
            "Epoch 33/50\n",
            "2070/2070 - 16s - loss: 2.0336 - accuracy: 0.3883 - val_loss: 2.1925 - val_accuracy: 0.3512\n",
            "Epoch 34/50\n",
            "2070/2070 - 16s - loss: 2.0295 - accuracy: 0.3896 - val_loss: 2.1912 - val_accuracy: 0.3544\n",
            "Epoch 35/50\n",
            "2070/2070 - 16s - loss: 2.0244 - accuracy: 0.3918 - val_loss: 2.1970 - val_accuracy: 0.3520\n",
            "Epoch 36/50\n",
            "2070/2070 - 16s - loss: 2.0217 - accuracy: 0.3943 - val_loss: 2.1934 - val_accuracy: 0.3548\n",
            "Epoch 37/50\n",
            "2070/2070 - 16s - loss: 2.0182 - accuracy: 0.3946 - val_loss: 2.1873 - val_accuracy: 0.3555\n",
            "Epoch 38/50\n",
            "2070/2070 - 16s - loss: 2.0148 - accuracy: 0.3941 - val_loss: 2.1887 - val_accuracy: 0.3568\n",
            "Epoch 39/50\n",
            "2070/2070 - 16s - loss: 2.0105 - accuracy: 0.3967 - val_loss: 2.1892 - val_accuracy: 0.3571\n",
            "Epoch 40/50\n",
            "2070/2070 - 16s - loss: 2.0073 - accuracy: 0.3974 - val_loss: 2.1850 - val_accuracy: 0.3585\n",
            "Epoch 41/50\n",
            "2070/2070 - 16s - loss: 2.0036 - accuracy: 0.4001 - val_loss: 2.1911 - val_accuracy: 0.3573\n",
            "Epoch 42/50\n",
            "2070/2070 - 16s - loss: 2.0016 - accuracy: 0.3985 - val_loss: 2.1920 - val_accuracy: 0.3591\n",
            "Epoch 43/50\n",
            "2070/2070 - 16s - loss: 1.9965 - accuracy: 0.4021 - val_loss: 2.1888 - val_accuracy: 0.3582\n",
            "Epoch 44/50\n",
            "2070/2070 - 16s - loss: 1.9958 - accuracy: 0.4024 - val_loss: 2.1870 - val_accuracy: 0.3569\n",
            "Epoch 45/50\n",
            "2070/2070 - 16s - loss: 1.9921 - accuracy: 0.4027 - val_loss: 2.1833 - val_accuracy: 0.3623\n",
            "Epoch 46/50\n",
            "2070/2070 - 16s - loss: 1.9891 - accuracy: 0.4041 - val_loss: 2.1879 - val_accuracy: 0.3605\n",
            "Epoch 47/50\n",
            "2070/2070 - 16s - loss: 1.9852 - accuracy: 0.4053 - val_loss: 2.1861 - val_accuracy: 0.3592\n",
            "Epoch 48/50\n",
            "2070/2070 - 16s - loss: 1.9829 - accuracy: 0.4063 - val_loss: 2.1843 - val_accuracy: 0.3629\n",
            "Epoch 49/50\n",
            "2070/2070 - 16s - loss: 1.9797 - accuracy: 0.4061 - val_loss: 2.1831 - val_accuracy: 0.3646\n",
            "Epoch 50/50\n",
            "2070/2070 - 16s - loss: 1.9782 - accuracy: 0.4059 - val_loss: 2.1843 - val_accuracy: 0.3619\n"
          ],
          "name": "stdout"
        }
      ]
    },
    {
      "cell_type": "code",
      "metadata": {
        "colab": {
          "base_uri": "https://localhost:8080/"
        },
        "id": "FU80kcedjLIo",
        "outputId": "99c973ff-9719-4213-b3d3-1b9bcac9bf1c"
      },
      "source": [
        "import matplotlib.pyplot as plt\n",
        "\n",
        "epochs_ran = len(h.history['loss'])\n",
        "\n",
        "plt.plot(range(1, epochs_ran+1), h.history['val_accuracy'], label='Validation')\n",
        "plt.plot(range(1, epochs_ran+1), h.history['accuracy'], label='Training')\n",
        "plt.legend()\n",
        "plt.show()"
      ],
      "execution_count": 25,
      "outputs": [
        {
          "output_type": "display_data",
          "data": {
            "image/png": "[encoded data removed]",
            "text/plain": [
              "<Figure size 432x288 with 1 Axes>"
            ]
          },
          "metadata": {
            "tags": [],
            "needs_background": "light"
          }
        }
      ]
    },
    {
      "cell_type": "code",
      "metadata": {
        "id": "AAQih2BLm-Jw"
      },
      "source": [
        "def generate_names(seed):\n",
        "  for i in range(40):\n",
        "    seq = name_to_seq(seed)\n",
        "    padded = tf.keras.preprocessing.sequence.pad_sequences([seq], padding='pre',\n",
        "                                                           maxlen=max_len-1,\n",
        "                                                           truncating='pre')\n",
        "    prediction = model.predict(padded)[0]\n",
        "    pred_char = index_to_char[tf.argmax(prediction).numpy()]\n",
        "    seed += pred_char\n",
        "\n",
        "    if pred_char == '\\t':\n",
        "      break\n",
        "  return seed"
      ],
      "execution_count": 39,
      "outputs": []
    },
    {
      "cell_type": "code",
      "metadata": {
        "colab": {
          "base_uri": "https://localhost:8080/"
        },
        "id": "4xjxQlfDoPHA",
        "outputId": "d77ebd20-13ed-4367-da01-30bc7ea9f183"
      },
      "source": [
        "print(generate_names('gr'))"
      ],
      "execution_count": 45,
      "outputs": [
        {
          "output_type": "stream",
          "text": [
            "green arrow\t\n"
          ],
          "name": "stdout"
        }
      ]
    },
    {
      "cell_type": "code",
      "metadata": {
        "id": "48tVNqzNpHKg"
      },
      "source": [
        ""
      ],
      "execution_count": null,
      "outputs": []
    }
  ]
}